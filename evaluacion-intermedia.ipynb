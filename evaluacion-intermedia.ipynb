{
 "cells": [
  {
   "cell_type": "code",
   "execution_count": 33,
   "metadata": {},
   "outputs": [],
   "source": [
    "import random "
   ]
  },
  {
   "cell_type": "markdown",
   "metadata": {},
   "source": [
    "# Ejercicios\n",
    "- Parte 1: Strings\n",
    "1. Dada una cadena de texto, contar cuántas veces aparece una letra específica en ella. Usa un input para que el usuario elija la letra a buscar.\n",
    "cadena = \"Python es un lenguaje de programación muy popular\"\n"
   ]
  },
  {
   "cell_type": "code",
   "execution_count": 1,
   "metadata": {},
   "outputs": [
    {
     "name": "stdout",
     "output_type": "stream",
     "text": [
      "Python es un lenguaje de programación muy popular\n",
      "La letra a\n",
      "Aparece 4 veces\n"
     ]
    }
   ],
   "source": [
    "cadena= 'Python es un lenguaje de programación muy popular'\n",
    "print(cadena)\n",
    "letra=input('Inserte la letra que desea buscar').lower()\n",
    "print('La letra', letra)\n",
    "print('Aparece',cadena.count(letra), 'veces')"
   ]
  },
  {
   "cell_type": "markdown",
   "metadata": {},
   "source": [
    "2. Escribe un programa que tome la siguiente cadena de texto y reemplace una palabra específica por otra palabra. La palabra a reemplazar y reemplazada deben ser elegidas por el usuario.\n",
    "cadena = \"Python es genial. Python es fácil de aprender.\""
   ]
  },
  {
   "cell_type": "code",
   "execution_count": 2,
   "metadata": {},
   "outputs": [
    {
     "name": "stdout",
     "output_type": "stream",
     "text": [
      "Python es guay. Python es fácil de aprender\n"
     ]
    }
   ],
   "source": [
    "cadena= 'Python es genial. Python es fácil de aprender'\n",
    "palabra= input('Inserte la palabra que desee').lower()\n",
    "palabra_reemplazada= input('Inserte palabra que desea reemplazar').lower()\n",
    "print(cadena.replace(palabra_reemplazada, palabra)) #reemplazamos la palabra genial por 'guay'\n"
   ]
  },
  {
   "cell_type": "markdown",
   "metadata": {},
   "source": [
    "3. Toma la siguiente oración y divídela en una lista de palabras. Luego, únelas nuevamente en una sola cadena de texto.\n",
    "oracion = \"Esto es una oración de ejemplo\"\n"
   ]
  },
  {
   "cell_type": "code",
   "execution_count": 3,
   "metadata": {},
   "outputs": [
    {
     "name": "stdout",
     "output_type": "stream",
     "text": [
      "Esto es una oración de ejemplo\n",
      "['Esto', 'es', 'una', 'oración', 'de', 'ejemplo']\n",
      "Esto es una oración de ejemplo\n"
     ]
    }
   ],
   "source": [
    "oracion= 'Esto es una oración de ejemplo'\n",
    "print(oracion)\n",
    "lista= oracion.split() #convertimos en una lista de palabras con split\n",
    "print(lista)\n",
    "cadena_texto= ' '.join(lista) #usamos join() para unir palabras (strings) de la lista y convertirlo de nuevo en oración\n",
    "print(cadena_texto)\n",
    " \n",
    "\n"
   ]
  },
  {
   "cell_type": "markdown",
   "metadata": {},
   "source": [
    "4. Desarrolla un programa que cuente cuántas palabras hay en la siguiente frase.\n",
    "cadena = \"Esta es una cadena con cinco palabras\"\n"
   ]
  },
  {
   "cell_type": "code",
   "execution_count": 3,
   "metadata": {},
   "outputs": [
    {
     "name": "stdout",
     "output_type": "stream",
     "text": [
      "Esta es una cadena con cinco palabras\n",
      "['Esta', 'es', 'una', 'cadena', 'con', 'cinco', 'palabras']\n",
      "La frase tiene 7 palabras\n"
     ]
    }
   ],
   "source": [
    "cadena_nueva= 'Esta es una cadena con cinco palabras'\n",
    "print(cadena_nueva)\n",
    "lista_cadena= cadena_nueva.split() #convertimos la cadena de texto en lista para contar el número de palabras\n",
    "print(lista_cadena)\n",
    "len(lista_cadena) #Nos dice cuantas palabras tiene la lista\n",
    "print('La frase tiene', len(lista_cadena), 'palabras')\n"
   ]
  },
  {
   "cell_type": "markdown",
   "metadata": {},
   "source": [
    "\n",
    "5. Escribe un programa que invierta una cadena de texto dada por un usuario. Mira el siguiente ejemplo para entender lo que se pide:\n",
    " # input \n",
    "\n",
    " \"Hola buenos dias\"\n",
    "\n",
    " # output\n",
    " \"dias buenos Hola\n"
   ]
  },
  {
   "cell_type": "code",
   "execution_count": 123,
   "metadata": {},
   "outputs": [
    {
     "name": "stdout",
     "output_type": "stream",
     "text": [
      "hoy es nuestra primera evaluacion\n"
     ]
    },
    {
     "data": {
      "text/plain": [
       "'evaluacion primera nuestra es hoy'"
      ]
     },
     "execution_count": 123,
     "metadata": {},
     "output_type": "execute_result"
    }
   ],
   "source": [
    "texto= input('Inserte una frase'). lower()\n",
    "print(texto)\n",
    "lista_texto= texto.split() #convertimos la frase en una lista para poder invertir el orden de las palabras de la cadena de texto\n",
    "lista_texto.reverse() #invertimos el orden de la frase insertada \n",
    "' '.join(lista_texto) #unimos los elementos de la lista \n"
   ]
  },
  {
   "cell_type": "markdown",
   "metadata": {},
   "source": [
    "6. Crea un programa que busque una palabra específica(elegida por la usuaria) en una cadena de texto e indique su posición.\n"
   ]
  },
  {
   "cell_type": "code",
   "execution_count": 132,
   "metadata": {},
   "outputs": [
    {
     "name": "stdout",
     "output_type": "stream",
     "text": [
      "True\n",
      "la posición de la palabra es 0\n"
     ]
    }
   ],
   "source": [
    "palabra_usuario= input('Inserte una palabra que desee buscar de la siguiente frase: Hoy es nuestra primera evaluacion').lower()\n",
    "cadena_1= ('Hoy es nuestra primera evaluacion').lower()\n",
    "print(palabra_usuario in cadena_1)\n",
    "print('la posición de la palabra es', cadena_1.index(palabra_usuario)) "
   ]
  },
  {
   "cell_type": "markdown",
   "metadata": {},
   "source": [
    "\n",
    "- Parte 2: Listas\n",
    "1. Dada la siguiente lista: frutas = ['manzana', 'pera', 'banana', 'uva', 'kiwi'], realiza lo siguiente:\n",
    "a) Reemplaza el segundo elemento con 'durazno'.\n",
    "b) Agrega 'naranja' al final de la lista.\n",
    "c) Extrae y muestra por pantalla el tercer elemento de la lista.\n"
   ]
  },
  {
   "cell_type": "code",
   "execution_count": 5,
   "metadata": {},
   "outputs": [
    {
     "name": "stdout",
     "output_type": "stream",
     "text": [
      "La posición de pera en el índice es: 1\n"
     ]
    }
   ],
   "source": [
    "#a) Con insert reemplazamos al segundo elemento, cuya posición es 1 (indice) por 'durazno'\n",
    "lista_frutas= ['manzana', 'pera', 'banana', 'uva', 'kiwi']\n",
    "print('La posición de pera en el índice es:', lista_frutas.index('pera')) #en caso de no saber posición del segundo elemento en índice podemos pedir con index que nos dé su posición \n"
   ]
  },
  {
   "cell_type": "code",
   "execution_count": 7,
   "metadata": {},
   "outputs": [
    {
     "name": "stdout",
     "output_type": "stream",
     "text": [
      "['manzana', 'pera', 'banana', 'uva', 'kiwi']\n",
      "['manzana', 'durazno', 'pera', 'banana', 'uva', 'kiwi']\n"
     ]
    }
   ],
   "source": [
    "print(lista_frutas)\n",
    "lista_frutas.insert(1, 'durazno')\n",
    "print(lista_frutas)"
   ]
  },
  {
   "cell_type": "markdown",
   "metadata": {},
   "source": [
    "2. Crea una lista llamada numeros que contenga los siguientes valores: 10, 25, 15, 30, 20.\n"
   ]
  },
  {
   "cell_type": "code",
   "execution_count": 8,
   "metadata": {},
   "outputs": [
    {
     "name": "stdout",
     "output_type": "stream",
     "text": [
      "[10, 25, 15, 30, 20]\n"
     ]
    }
   ],
   "source": [
    "numeros= [10,25,15,30,20]\n",
    "print(numeros)"
   ]
  },
  {
   "cell_type": "markdown",
   "metadata": {},
   "source": [
    "3. Agrega el valor 35 al incio de la lista numeros. \n"
   ]
  },
  {
   "cell_type": "code",
   "execution_count": 9,
   "metadata": {},
   "outputs": [
    {
     "name": "stdout",
     "output_type": "stream",
     "text": [
      "[35, 10, 25, 15, 30, 20]\n"
     ]
    }
   ],
   "source": [
    "numeros.insert(0, 35) #con insert añadimos el valor 35 al principio de la lista (posición 0 en el índice)\n",
    "print(numeros)"
   ]
  },
  {
   "cell_type": "markdown",
   "metadata": {},
   "source": [
    "4. Ordena la lista numeros en orden ascendente."
   ]
  },
  {
   "cell_type": "code",
   "execution_count": 10,
   "metadata": {},
   "outputs": [
    {
     "name": "stdout",
     "output_type": "stream",
     "text": [
      "[10, 15, 20, 25, 30, 35]\n"
     ]
    }
   ],
   "source": [
    "numeros.sort() #con sort() ordenamos los elementos de la lista en orden ascendente y SOBREESCRIBE la lista original \n",
    "print(numeros)\n",
    "#con sorted() haria lo mismo pero SIN SOBREESCRIBIR lista original"
   ]
  },
  {
   "cell_type": "markdown",
   "metadata": {},
   "source": [
    "5. Dada la siguiente lista numeros2 = [45, 22, 19, 38, 29]. Crea una nueva lista llamada numeros3 donde tengamos la unión de los todos los elementos de las dos listas (numeros y numeros2) de tal forma que el resultado final sea:\n",
    "numeros3 = [10, 25, 15, 30, 20, 45, 22, 19, 38, 29]\n"
   ]
  },
  {
   "cell_type": "code",
   "execution_count": 11,
   "metadata": {},
   "outputs": [
    {
     "name": "stdout",
     "output_type": "stream",
     "text": [
      "[45, 22, 19, 38, 29]\n",
      "[10, 15, 20, 25, 30, 35, 45, 22, 19, 38, 29]\n"
     ]
    }
   ],
   "source": [
    "numeros2= [45, 22, 19, 38, 29]\n",
    "print(numeros2)\n",
    "numeros3= numeros + numeros2 #unimos ambas listas\n",
    "print(numeros3)"
   ]
  },
  {
   "cell_type": "markdown",
   "metadata": {},
   "source": [
    "6. Elimina el último elemento de la lista numeros3.\n"
   ]
  },
  {
   "cell_type": "code",
   "execution_count": 133,
   "metadata": {},
   "outputs": [
    {
     "name": "stdout",
     "output_type": "stream",
     "text": [
      "[10, 15, 20, 25, 35, 45, 22, 19, 38]\n",
      "[10, 15, 20, 25, 35, 45, 22, 19]\n"
     ]
    }
   ],
   "source": [
    "print(numeros3)\n",
    "numeros3.pop() #con pop() elimina último elemento de la lista\n",
    "print(numeros3)"
   ]
  },
  {
   "cell_type": "markdown",
   "metadata": {},
   "source": [
    "7. Elimina el número 30 de la lista numeros3.\n"
   ]
  },
  {
   "cell_type": "code",
   "execution_count": 13,
   "metadata": {},
   "outputs": [
    {
     "name": "stdout",
     "output_type": "stream",
     "text": [
      "[10, 15, 20, 25, 30, 35, 45, 22, 19, 38]\n",
      "[10, 15, 20, 25, 35, 45, 22, 19, 38]\n"
     ]
    }
   ],
   "source": [
    "print(numeros3)\n",
    "numeros3.remove(30) #con remove() eliminamos un elemento determinado, en este caso que hemos especificado (30)\n",
    "print(numeros3)"
   ]
  },
  {
   "cell_type": "markdown",
   "metadata": {},
   "source": [
    "- Parte 3: Tuplas\n",
    "1. Crea una tupla llamada colores que contenga los siguientes valores: 'rojo', 'verde', 'azul', 'amarillo', 'morado'.\n"
   ]
  },
  {
   "cell_type": "code",
   "execution_count": 14,
   "metadata": {},
   "outputs": [
    {
     "name": "stdout",
     "output_type": "stream",
     "text": [
      "('rojo', 'verde', 'azul', 'amarillo', 'morado')\n"
     ]
    }
   ],
   "source": [
    "colores= ('rojo', 'verde', 'azul', 'amarillo', 'morado')\n",
    "print(colores)"
   ]
  },
  {
   "cell_type": "markdown",
   "metadata": {},
   "source": [
    "2. Encuentra el índice de 'verde' en la tupla colores.\n"
   ]
  },
  {
   "cell_type": "code",
   "execution_count": 134,
   "metadata": {},
   "outputs": [
    {
     "name": "stdout",
     "output_type": "stream",
     "text": [
      "el indice es 1\n"
     ]
    }
   ],
   "source": [
    "print('el indice es', colores.index('verde'))"
   ]
  },
  {
   "cell_type": "markdown",
   "metadata": {},
   "source": [
    "3. ¿Cuántas veces aparece 'azul' en la tupla colores?\n"
   ]
  },
  {
   "cell_type": "code",
   "execution_count": 138,
   "metadata": {},
   "outputs": [
    {
     "name": "stdout",
     "output_type": "stream",
     "text": [
      "Aparece 1 vez\n"
     ]
    }
   ],
   "source": [
    "print('Aparece', colores.count('azul'), 'vez')"
   ]
  },
  {
   "cell_type": "markdown",
   "metadata": {},
   "source": [
    "4. Añade el color \"morado\" a la tupla colores. ¿Qué ha pasado? ¿Por qué? Como podríamos añadir el elemento \"morado\".\n"
   ]
  },
  {
   "cell_type": "code",
   "execution_count": 139,
   "metadata": {},
   "outputs": [
    {
     "name": "stdout",
     "output_type": "stream",
     "text": [
      "['rojo', 'verde', 'azul', 'amarillo', 'morado']\n",
      "('rojo', 'verde', 'azul', 'amarillo', 'morado', 'morado')\n"
     ]
    }
   ],
   "source": [
    "#las tuplas son inmutables, es decir que una vez creadas no podemos modificarlas. Si lo intentaramos nos daría error. \n",
    "#Podemos convertir la tupla en una lista para poder añadir el nuevo elemento y tras esto convertirlo nuevamente en tupla.\n",
    "#Podemos hacerlo con append(), usaremos la variable 'morado' como en el apartado anterior. (Dejo el ejemplo en comentarios para que no se añada morado nuevamente)\n",
    "\n",
    "lista_colores= list(colores)\n",
    "print(lista_colores)\n",
    "lista_colores.append('morado')\n",
    "print(tuple(lista_colores))\n",
    "\n",
    "#Otra forma para añadir un nuevo elemento a una tupla deberíamos seria en vez de añadir, CREAR una nueva tupla en la que añadimos el nuevo elemento, el cual debemos definir como variable. \n",
    "#nuevo_color= 'morado' \n",
    "#nuevos_colores= colores + (nuevo_color,) #añadimos la ',' para convertir en tupla\n",
    "#print(nuevos_colores)\n",
    "\n",
    "\n"
   ]
  },
  {
   "cell_type": "markdown",
   "metadata": {},
   "source": [
    "- Parte 4: Diccionarios\n",
    "1. Crea un diccionario llamado frutas con las siguientes parejas clave-valor:\n",
    "'manzana': 2\n",
    "'banana': 3\n",
    "'uva': 5\n",
    "'pera': 4\n"
   ]
  },
  {
   "cell_type": "code",
   "execution_count": 8,
   "metadata": {},
   "outputs": [
    {
     "name": "stdout",
     "output_type": "stream",
     "text": [
      "{'manzana': 2, 'banana': 3, 'uva': 5, 'pera': 4}\n"
     ]
    }
   ],
   "source": [
    "frutas= {'manzana': 2,\n",
    "'banana': 3,\n",
    "'uva': 5,\n",
    "'pera': 4}\n",
    "print(frutas)"
   ]
  },
  {
   "cell_type": "markdown",
   "metadata": {},
   "source": [
    "2. Saca una lista de todas las frutas en el diccionario.\n"
   ]
  },
  {
   "cell_type": "code",
   "execution_count": 9,
   "metadata": {},
   "outputs": [
    {
     "name": "stdout",
     "output_type": "stream",
     "text": [
      "las frutas son: ['manzana', 'banana', 'uva', 'pera']\n"
     ]
    }
   ],
   "source": [
    "lista_claves= frutas.keys() #para sacar las frutas del diccionario usamos keys() que nos dará una lista de claves del diccionario. \n",
    "lista_clavefrutas= list(lista_claves)\n",
    "print('las frutas son:', lista_clavefrutas)\n"
   ]
  },
  {
   "cell_type": "markdown",
   "metadata": {},
   "source": [
    "3. Saca una lista de todas las cantidades en el diccionario.\n"
   ]
  },
  {
   "cell_type": "code",
   "execution_count": 10,
   "metadata": {},
   "outputs": [
    {
     "name": "stdout",
     "output_type": "stream",
     "text": [
      "las cantidades son: [2, 3, 5, 4]\n"
     ]
    }
   ],
   "source": [
    "lista_valores= frutas.values()\n",
    "nueva_listavalores= list(lista_valores) #con values() sacamos la lista de valores. \n",
    "print('las cantidades son:', nueva_listavalores)"
   ]
  },
  {
   "cell_type": "markdown",
   "metadata": {},
   "source": [
    "4. ¿Qué cantidad de 'manzana' tenemos?. Si la clave 'manzana' no está presente, devuelve un mensaje diciendo \"No existe esa clave\".\n"
   ]
  },
  {
   "cell_type": "code",
   "execution_count": 11,
   "metadata": {},
   "outputs": [
    {
     "data": {
      "text/plain": [
       "2"
      ]
     },
     "execution_count": 11,
     "metadata": {},
     "output_type": "execute_result"
    }
   ],
   "source": [
    "#frutas.setdefault('manzana'). En este caso es mejor .get() ya que queremos que nos devuelva un mensaje diciendo 'no existe esa clave', en get() podemos poner valor determinado en caso de que no exista\n",
    "#en este caso la clave manzana está presente en el diccionario y nos responde con su valor. \n",
    "frutas.get('manzana', 'no existe esa clave')"
   ]
  },
  {
   "cell_type": "markdown",
   "metadata": {},
   "source": [
    "5. Agrega un nuevo par de clave-valor al diccionario frutas: 'kiwi' con una cantidad de 6.\n"
   ]
  },
  {
   "cell_type": "code",
   "execution_count": 12,
   "metadata": {},
   "outputs": [
    {
     "name": "stdout",
     "output_type": "stream",
     "text": [
      "{'manzana': 2, 'banana': 3, 'uva': 5, 'pera': 4}\n",
      "{'manzana': 2, 'banana': 3, 'uva': 5, 'pera': 4, 'kiwi': 6}\n"
     ]
    }
   ],
   "source": [
    "print(frutas)\n",
    "frutas.update({'kiwi': 6})\n",
    "print(frutas)\n"
   ]
  },
  {
   "cell_type": "markdown",
   "metadata": {},
   "source": [
    "6. Cambia la cantidad de 'uva' a 8.\n"
   ]
  },
  {
   "cell_type": "code",
   "execution_count": 13,
   "metadata": {},
   "outputs": [
    {
     "name": "stdout",
     "output_type": "stream",
     "text": [
      "{'manzana': 2, 'banana': 3, 'uva': 5, 'pera': 4, 'kiwi': 6}\n",
      "{'manzana': 2, 'banana': 3, 'uva': 5, 'pera': 4, 'kiwi': 8}\n"
     ]
    }
   ],
   "source": [
    "print(frutas)\n",
    "frutas.update({'kiwi': 8}) #cambiamos su valor nuevamente con update\n",
    "print(frutas)"
   ]
  },
  {
   "cell_type": "markdown",
   "metadata": {},
   "source": [
    "7. Crea un segundo diccionario llamado frutas_nuevas con las siguientes parejas clave-valor:\n",
    "'sandía': 7\n",
    "'mango': 4\n"
   ]
  },
  {
   "cell_type": "code",
   "execution_count": 14,
   "metadata": {},
   "outputs": [
    {
     "name": "stdout",
     "output_type": "stream",
     "text": [
      "{'sandia': 7, 'mango': 4}\n"
     ]
    }
   ],
   "source": [
    "frutas_nuevas= {'sandia': 7, 'mango': 4}\n",
    "print(frutas_nuevas)"
   ]
  },
  {
   "cell_type": "markdown",
   "metadata": {},
   "source": [
    "8. Combinar los dos diccionarios frutas_nuevas y frutas en uno nuevos llamado frutas_total.\n"
   ]
  },
  {
   "cell_type": "code",
   "execution_count": 15,
   "metadata": {},
   "outputs": [
    {
     "name": "stdout",
     "output_type": "stream",
     "text": [
      "{'manzana': 2, 'banana': 3, 'uva': 5, 'pera': 4, 'kiwi': 8, 'sandia': 7, 'mango': 4}\n"
     ]
    }
   ],
   "source": [
    "frutas_total= frutas| frutas_nuevas # con '|' combinamos ambos diccionarios. \n",
    "print(frutas_total)"
   ]
  },
  {
   "cell_type": "markdown",
   "metadata": {},
   "source": [
    "9. Elimina el último par de clave-valor del diccionario fruta_total.\n"
   ]
  },
  {
   "cell_type": "code",
   "execution_count": 16,
   "metadata": {},
   "outputs": [
    {
     "name": "stdout",
     "output_type": "stream",
     "text": [
      "{'manzana': 2, 'banana': 3, 'uva': 5, 'pera': 4, 'kiwi': 8, 'sandia': 7}\n"
     ]
    }
   ],
   "source": [
    "frutas_total.popitem() #con popitem eliminamos el ultimo par clave-valor\n",
    "print(frutas_total) "
   ]
  },
  {
   "cell_type": "markdown",
   "metadata": {},
   "source": [
    "10. Elimina el par de clave-valor correspondiente a la clave 'uva' del diccionario.\n"
   ]
  },
  {
   "cell_type": "code",
   "execution_count": 17,
   "metadata": {},
   "outputs": [
    {
     "name": "stdout",
     "output_type": "stream",
     "text": [
      "{'manzana': 2, 'banana': 3, 'uva': 5, 'pera': 4, 'kiwi': 8, 'sandia': 7}\n",
      "{'manzana': 2, 'banana': 3, 'pera': 4, 'kiwi': 8, 'sandia': 7}\n"
     ]
    }
   ],
   "source": [
    "print(frutas_total)\n",
    "frutas_total.pop('uva')\n",
    "print(frutas_total)"
   ]
  },
  {
   "cell_type": "markdown",
   "metadata": {},
   "source": [
    "11. Agregar la fruta 'manzana' con una cantidad de 10 al diccionario. Si ya existe, no se realizarán cambios en los valores que teníamos.\n"
   ]
  },
  {
   "cell_type": "code",
   "execution_count": 18,
   "metadata": {},
   "outputs": [
    {
     "name": "stdout",
     "output_type": "stream",
     "text": [
      "{'manzana': 2, 'banana': 3, 'pera': 4, 'kiwi': 8, 'sandia': 7}\n",
      "{'manzana': 2, 'banana': 3, 'pera': 4, 'kiwi': 8, 'sandia': 7}\n"
     ]
    }
   ],
   "source": [
    "print(frutas_total)\n",
    "frutas_total.setdefault('manzana', 10)\n",
    "print(frutas_total) #como la clave 'manzana ya existe con setdefault() nos mantiene el valor que teníamos\n"
   ]
  },
  {
   "cell_type": "markdown",
   "metadata": {},
   "source": [
    "12. Combinar métodos de listas y diccionarios:\n"
   ]
  },
  {
   "cell_type": "markdown",
   "metadata": {},
   "source": [
    "- Obtén una lista de todas las cantidades en el diccionario y calcula suma total de las cantidades del diccionario frutas_total.\n"
   ]
  },
  {
   "cell_type": "code",
   "execution_count": 21,
   "metadata": {},
   "outputs": [
    {
     "name": "stdout",
     "output_type": "stream",
     "text": [
      "[2, 3, 4, 8, 7]\n",
      "La suma total de las cantidades del diccionario son: 24\n"
     ]
    }
   ],
   "source": [
    "lista_cantidades= frutas_total.values()\n",
    "print(list(lista_cantidades))\n",
    "print('La suma total de las cantidades del diccionario son:', sum(lista_cantidades))"
   ]
  },
  {
   "cell_type": "markdown",
   "metadata": {},
   "source": [
    "- Utilizando la lista creada en el apartado anterior encuentra la cantidad más grande y más pequeña.\n"
   ]
  },
  {
   "cell_type": "code",
   "execution_count": 22,
   "metadata": {},
   "outputs": [
    {
     "name": "stdout",
     "output_type": "stream",
     "text": [
      "La cantidad más grande es: 8\n",
      "La cantidad más pequeña es: 2\n"
     ]
    }
   ],
   "source": [
    "print('La cantidad más grande es:', max(lista_cantidades))\n",
    "print('La cantidad más pequeña es:', min(lista_cantidades))"
   ]
  },
  {
   "cell_type": "markdown",
   "metadata": {},
   "source": [
    "- Parte 5: Métodos de Sets\n",
    "1. Crea un set llamado conjunto1 con los números del 1 al 5.\n"
   ]
  },
  {
   "cell_type": "code",
   "execution_count": 23,
   "metadata": {},
   "outputs": [
    {
     "name": "stdout",
     "output_type": "stream",
     "text": [
      "{1, 2, 3, 4, 5}\n"
     ]
    }
   ],
   "source": [
    "conjunto1= {1,2,3,4,5}\n",
    "print(conjunto1)"
   ]
  },
  {
   "cell_type": "markdown",
   "metadata": {},
   "source": [
    "2. Crea otro set llamado conjunto2 con los números del 4 al 8.\n"
   ]
  },
  {
   "cell_type": "code",
   "execution_count": 24,
   "metadata": {},
   "outputs": [],
   "source": [
    "conjunto2= {4,5,6,7,8}"
   ]
  },
  {
   "cell_type": "markdown",
   "metadata": {},
   "source": [
    "3. Obtén la unión de conjunto1 y conjunto2.\n"
   ]
  },
  {
   "cell_type": "code",
   "execution_count": 25,
   "metadata": {},
   "outputs": [
    {
     "data": {
      "text/plain": [
       "{1, 2, 3, 4, 5, 6, 7, 8}"
      ]
     },
     "execution_count": 25,
     "metadata": {},
     "output_type": "execute_result"
    }
   ],
   "source": [
    "conjunto1 | conjunto2 \n",
    "#También podemos usar union() definiendo una nueva variable. Dejo el ejemplo a continuación como comentario\n",
    "#conjunto_total= conjunto1.union(conjunto2)\n",
    "#usamos para unir conjunto 1 y 2 con '|'. Como vemos los sets no permiten elementos duplicados y nos genera un set con numeros del 1 al 8."
   ]
  },
  {
   "cell_type": "markdown",
   "metadata": {},
   "source": [
    "4. Obtén la intersección de conjunto1 y conjunto2.\n"
   ]
  },
  {
   "cell_type": "code",
   "execution_count": 26,
   "metadata": {},
   "outputs": [
    {
     "name": "stdout",
     "output_type": "stream",
     "text": [
      "{4, 5}\n"
     ]
    }
   ],
   "source": [
    "#Definimos variable y hacemos interseccion.\n",
    "#con intersection() nos dice elementos que tienen en común ambos sets.\n",
    "conjunto_total= conjunto1.intersection(conjunto2)\n",
    "print(conjunto_total)"
   ]
  },
  {
   "cell_type": "markdown",
   "metadata": {},
   "source": [
    "5. Obtén los elementos que están en conjunto1 pero no en el conjunto2.\n"
   ]
  },
  {
   "cell_type": "code",
   "execution_count": 27,
   "metadata": {},
   "outputs": [
    {
     "name": "stdout",
     "output_type": "stream",
     "text": [
      "{1, 2, 3}\n"
     ]
    }
   ],
   "source": [
    "#Definimos variable y usamos difference()\n",
    "conjunto_dif= conjunto1.difference(conjunto2)\n",
    "print(conjunto_dif)"
   ]
  },
  {
   "cell_type": "markdown",
   "metadata": {},
   "source": [
    "- Parte 6: Sentencias de Control\n",
    "1. Ejercicio 1: Evaluación de Edades:\n",
    "- Escribe un programa que solicite al usuario ingresar su edad.\n",
    "- Si la edad es menor de 18, muestra \"Eres menor de edad\".\n",
    "- Si la edad está entre 18 y 65 (incluyendo ambos extremos), muestra \"Eres adulto\".\n",
    "- Si la edad es mayor que 65, muestra \"Eres un adulto mayor\".\n"
   ]
  },
  {
   "cell_type": "code",
   "execution_count": 29,
   "metadata": {},
   "outputs": [
    {
     "name": "stdout",
     "output_type": "stream",
     "text": [
      "La edad seleccionada es: 43\n",
      "Eres adulto\n"
     ]
    }
   ],
   "source": [
    "edad= int(input('Inserte su edad'))\n",
    "print('La edad seleccionada es:', edad)\n",
    "if edad < 18:\n",
    "    print('Eres menos de edad')\n",
    "    \n",
    "elif 18 <= edad <= 65:\n",
    "    print('Eres adulto')\n",
    "else:\n",
    "    print('Eres un adulto mayor')"
   ]
  },
  {
   "cell_type": "markdown",
   "metadata": {},
   "source": [
    "2. Ejercicio 2: Determinación de Día de la Semana\n",
    "- Solicita al usuario que ingrese un número del 1 al 7.\n",
    "- Utilizando una serie de if-elif-else, muestra el día de la semana correspondiente al número ingresado. Por ejemplo, si ingresa 1, muestra \"Lunes\".\n"
   ]
  },
  {
   "cell_type": "code",
   "execution_count": 31,
   "metadata": {},
   "outputs": [
    {
     "name": "stdout",
     "output_type": "stream",
     "text": [
      "El numero seleccionada es: 6\n",
      "Es sabado\n"
     ]
    }
   ],
   "source": [
    "dia_semana= int(input('inserte un número del 1 al 7'))\n",
    "print('El numero seleccionada es:', dia_semana)\n",
    "if dia_semana == 1:\n",
    "    print('Es lunes')\n",
    "elif dia_semana == 2:\n",
    "    print('Es martes')\n",
    "elif dia_semana == 3:\n",
    "    print('Es miercoles')\n",
    "elif dia_semana == 4:\n",
    "    print('Es jueves')\n",
    "elif dia_semana == 5: \n",
    "    print('Es viernes')\n",
    "elif dia_semana == 6:\n",
    "    print('Es sabado')\n",
    "else: \n",
    "    print('Es domingo')\n",
    "\n",
    "#Si no usaramos if/elif/else podríamos hacer el ejercicio más simplificado definiendo un diccionario clave-valor dia(1-5) y día correspondiente de la semana\n",
    "\n",
    "#dias_semana = {\"lunes\": 1, \"martes\": 2, \"miércoles\": 3, \"jueves\": 4, \"viernes\": 5, \"sábado\": 6, \"domingo\": 7}\n",
    "#dia = int(input('Inserte un número del 1 al 7: '))\n",
    "#if dia_semana in semana.keys():\n",
    "    #print(dias_semana[dia])\n",
    "#else:\n",
    "    #print('Número de día no válido. Esto no es un día de la semana')\n",
    "\n"
   ]
  },
  {
   "cell_type": "markdown",
   "metadata": {},
   "source": [
    "3. Ejercicio 3: Juego de Adivinanza\n",
    "- Genera un número aleatorio entre 1 y 100.\n",
    "- Pídele al usuario que adivine el número.\n",
    "- Si el usuario adivina correctamente en el primer intento, muestra \"¡Ganaste en el primer intento!\".\n",
    "- Si el usuario no adivina en el primer intento, bríndale pistas (mayor o menor) y permite que intente nuevamente. Muestra cuántos intentos le llevó al final.\n"
   ]
  },
  {
   "cell_type": "code",
   "execution_count": 34,
   "metadata": {},
   "outputs": [
    {
     "name": "stdout",
     "output_type": "stream",
     "text": [
      "El número seleccionado por el jugador es: 54\n",
      "El número que has elegido es menor al número secreto. Prueba otra vez\n",
      "El número seleccionado por el jugador es: 60\n",
      "El número que has elegido es menor al número secreto. Prueba otra vez\n",
      "El número seleccionado por el jugador es: 65\n",
      "El número que has elegido es menor al número secreto. Prueba otra vez\n",
      "El número seleccionado por el jugador es: 80\n",
      "El número que has elegido es menor al número secreto. Prueba otra vez\n",
      "El número seleccionado por el jugador es: 85\n",
      "El número que has elegido es mayor al número secreto. Sigue intentando\n",
      "El número seleccionado por el jugador es: 73\n",
      "El número que has elegido es menor al número secreto. Prueba otra vez\n",
      "El número seleccionado por el jugador es: 74\n",
      "El número que has elegido es menor al número secreto. Prueba otra vez\n",
      "El número seleccionado por el jugador es: 75\n",
      "El número que has elegido es menor al número secreto. Prueba otra vez\n",
      "El número seleccionado por el jugador es: 76\n",
      "El número que has elegido es menor al número secreto. Prueba otra vez\n",
      "El número seleccionado por el jugador es: 78\n",
      "El número que has elegido es menor al número secreto. Prueba otra vez\n",
      "El número seleccionado por el jugador es: 79\n",
      "El número que has elegido es menor al número secreto. Prueba otra vez\n",
      "El número seleccionado por el jugador es: 80\n",
      "El número que has elegido es menor al número secreto. Prueba otra vez\n",
      "El número seleccionado por el jugador es: 81\n",
      "El número que has elegido es menor al número secreto. Prueba otra vez\n",
      "El número seleccionado por el jugador es: 82\n",
      "¡Has ganado!\n",
      "La cantidad de intentos fueron 14\n"
     ]
    }
   ],
   "source": [
    "#Ejecutamos import random al principio de los ejercicios. #Generamos un numero aleatorio del 1 al 100.\n",
    "numero_aleatorio= random.randint(1,100)\n",
    "\n",
    "# Inicializamos la variable intentos en 0, que contará cuántos intentos ha realizado el usuario.\n",
    "intentos= 0\n",
    "option= True\n",
    "\n",
    "# Iniciamos un bucle while que se ejecutará indefinidamente hasta que el usuario adivine el número secreto.\n",
    "while True:\n",
    "    \n",
    "    numero_usuario= int(input('¡Juguemos! Adivina el número: inserta un número entre 1 y 100'))         # El usuario ingresa un número y lo convertimos a un entero.\n",
    "    print('El número seleccionado por el jugador es:', numero_usuario)\n",
    "    intentos += 1           #Incrementamos los intentos\n",
    "\n",
    "    #Comprobamos si el usuario adivinó en el primer intento y mostramos mensaje. \n",
    "    if numero_usuario == numero_aleatorio and intentos == 1: \n",
    "        print('¡Enhorabuena!¡Has acertado a la primera!')\n",
    "        break\n",
    "    #Comprobamos si usuari9o adivinó el número y mostramos mensaje. \n",
    "    elif numero_usuario == numero_aleatorio: \n",
    "        print('¡Has ganado!')\n",
    "        break\n",
    "    \n",
    "    # Si el número adivinado es menor que el número secreto, indicamos que el número es menor y se debe seguir intentando.\n",
    "    elif numero_usuario < numero_aleatorio:\n",
    "        print('El número que has elegido es menor al número secreto. Prueba otra vez')\n",
    "\n",
    "    # Si el número adivinado es mayor que el número secreto, indicamos que el número es mayor y se debe seguir intentando.\n",
    "    else:\n",
    "        print('El número que has elegido es mayor al número secreto. Sigue intentando')\n",
    "\n",
    "# Una vez que el bucle while ha terminado, mostramos la cantidad de intentos realizados.\n",
    "print(f'La cantidad de intentos fueron {intentos}')"
   ]
  },
  {
   "cell_type": "markdown",
   "metadata": {},
   "source": [
    "4. Ejercicio 4: Juego de Adivinar la Palabra\n",
    "- Elige una palabra secreta y ocúltala utilizando asteriscos, por ejemplo, \"secreto\" se muestra como \"*******\".\n",
    "- Permite al usuario adivinar letras una por una.\n",
    "- Si la letra adivinada está en la palabra secreta, muestra la palabra con las letras descubiertas y los asteriscos.\n",
    "- Si la letra no está en la palabra secreta, resta una vida al jugador.\n",
    "- El juego continúa hasta que el jugador adivine la palabra."
   ]
  },
  {
   "cell_type": "code",
   "execution_count": 55,
   "metadata": {},
   "outputs": [
    {
     "name": "stdout",
     "output_type": "stream",
     "text": [
      "c******\n",
      "Te quedan 10 vidas\n",
      "ca*****\n",
      "Te quedan 10 vidas\n",
      "cab****\n",
      "Te quedan 10 vidas\n",
      "cabr***\n",
      "Te quedan 10 vidas\n",
      "cabri**\n",
      "Te quedan 10 vidas\n",
      "cabrit*\n",
      "Te quedan 10 vidas\n",
      "cabrito\n",
      "Te quedan 10 vidas\n",
      "¡Enhorabuena!, la palabra era cabrito, acabaste con 10 vidas\n"
     ]
    }
   ],
   "source": [
    "# Primero, se crea un diccionario llamado palabra_secreta donde las letras de la palabra \"python\" se representan con asteriscos.\n",
    "palabra_secreta = {\"c\": \"*\", \"a\": \"*\", \"b\": \"*\", \"r\": \"*\", \"i\": \"*\", \"t\": \"*\", \"o\": \"*\"}\n",
    "\n",
    "# Se establece el número inicial de vidas del jugador en 10.\n",
    "vida = 10\n",
    "\n",
    "# Se crea una variable llamada 'respuesta' que contiene los asteriscos del diccionario como una cadena.\n",
    "respuesta = \"\".join(palabra_secreta.values())\n",
    "\n",
    "# Se inicia un bucle while que se ejecutará mientras la respuesta no sea igual a \"python\" y el jugador tenga al menos 1 vida.\n",
    "while respuesta != \"cabrito\" and vida >= 1:\n",
    "    # Se solicita al jugador que introduzca una letra que pueda estar en la palabra y se convierte a minúsculas.\n",
    "    pregunta = input(\"Introduce una letra que pueda estar en la palabra\").lower()\n",
    "\n",
    "    # Se verifica si la letra ingresada está en la palabra secreta.\n",
    "    if pregunta in palabra_secreta:\n",
    "        # Si la letra está en la palabra, se actualiza el diccionario y se reemplaza el asterisco correspondiente por la letra adivinada.\n",
    "        palabra_secreta[pregunta] = pregunta\n",
    "        respuesta = \"\".join(palabra_secreta.values())\n",
    "        print(respuesta)\n",
    "        print(f\"Te quedan {vida} vidas\")\n",
    "    else:\n",
    "        # Si la letra no está en la palabra, se resta una vida y se muestra el número de vidas restantes.\n",
    "        print(\"Esa letra no se encuentra en la palabra\")\n",
    "        vida -= 1\n",
    "        print(f\"Te quedan {vida} vidas\")\n",
    "\n",
    "# Finalmente, se comprueba si el jugador ha perdido (vida = 0) o ganado (respuesta = \"python\") y se muestra el mensaje correspondiente.\n",
    "if vida == 0:\n",
    "    print(\"Se te acabaron las vidas\")\n",
    "else:\n",
    "    print(f\"¡Enhorabuena!, la palabra era {respuesta}, acabaste con {vida} vidas\")\n"
   ]
  }
 ],
 "metadata": {
  "kernelspec": {
   "display_name": "base",
   "language": "python",
   "name": "python3"
  },
  "language_info": {
   "codemirror_mode": {
    "name": "ipython",
    "version": 3
   },
   "file_extension": ".py",
   "mimetype": "text/x-python",
   "name": "python",
   "nbconvert_exporter": "python",
   "pygments_lexer": "ipython3",
   "version": "3.9.7"
  }
 },
 "nbformat": 4,
 "nbformat_minor": 2
}
